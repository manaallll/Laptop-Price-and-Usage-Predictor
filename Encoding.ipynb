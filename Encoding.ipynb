{
 "cells": [
  {
   "cell_type": "code",
   "execution_count": 1,
   "id": "1aa14df4-0433-49c6-b151-6299f5be368e",
   "metadata": {},
   "outputs": [],
   "source": [
    "from sklearn.preprocessing import LabelEncoder\n",
    "import pickle\n",
    "import pandas as pd\n",
    "\n",
    "df= pd.read_csv('preprosseced.csv')\n",
    "if 'Unnamed: 0' in df.columns:\n",
    "    df.drop(['Unnamed: 0'], axis=1, inplace=True)\n",
    "# encode and save\n",
    "label_encoders={}\n",
    "for column in df.select_dtypes(include='object').columns:\n",
    "    le=LabelEncoder()\n",
    "    df[column]=le.fit_transform(df[column].astype(str))\n",
    "    label_encoders[column]=le\n",
    "    \n",
    "\n",
    "# Save encoders\n",
    "with open(\"label_encoders.pkl\", \"wb\") as f:\n",
    "    pickle.dump(label_encoders, f)\n",
    "\n",
    "# Save feature columns too\n",
    "feature_columns = df.drop(columns=[\"Price_euros\"]).columns.tolist()\n",
    "with open(\"feature_columns.pkl\", \"wb\") as f:\n",
    "    pickle.dump(feature_columns, f)\n"
   ]
  },
  {
   "cell_type": "code",
   "execution_count": 2,
   "id": "b087efb3-bfb0-49d6-9921-534ba623def4",
   "metadata": {},
   "outputs": [
    {
     "name": "stdout",
     "output_type": "stream",
     "text": [
      "Company                   int32\n",
      "TypeName                  int32\n",
      "Inches                  float64\n",
      "Ram                     float64\n",
      "OpSys                     int32\n",
      "Weight                  float64\n",
      "Price_euros             float64\n",
      "Screen                    int32\n",
      "ScreenW                 float64\n",
      "ScreenH                 float64\n",
      "Touchscreen               int32\n",
      "IPSpanel                  int32\n",
      "RetinaDisplay             int32\n",
      "CPU_brand                 int32\n",
      "CPU_base_clock_speed    float64\n",
      "PrimaryStorage            int64\n",
      "PrimaryStorageType        int32\n",
      "SecondaryStorage          int64\n",
      "SecondaryStorageType      int32\n",
      "GPU_company               int32\n",
      "dtype: object\n"
     ]
    }
   ],
   "source": [
    "print(df.dtypes)"
   ]
  },
  {
   "cell_type": "code",
   "execution_count": null,
   "id": "27e907d1-f0a5-4bed-a35c-dbaeb5a9da4c",
   "metadata": {},
   "outputs": [],
   "source": []
  }
 ],
 "metadata": {
  "kernelspec": {
   "display_name": "Python 3 (ipykernel)",
   "language": "python",
   "name": "python3"
  },
  "language_info": {
   "codemirror_mode": {
    "name": "ipython",
    "version": 3
   },
   "file_extension": ".py",
   "mimetype": "text/x-python",
   "name": "python",
   "nbconvert_exporter": "python",
   "pygments_lexer": "ipython3",
   "version": "3.11.8"
  }
 },
 "nbformat": 4,
 "nbformat_minor": 5
}
