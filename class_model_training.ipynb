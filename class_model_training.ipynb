{
 "cells": [
  {
   "cell_type": "code",
   "execution_count": 1,
   "id": "e93bffae-eb89-4531-9abc-525fb1b8e16c",
   "metadata": {},
   "outputs": [],
   "source": [
    "from sklearn.tree import DecisionTreeClassifier\n",
    "import sklearn\n",
    "import pickle\n",
    "import pandas as pd\n",
    "\n",
    "# Load Iris data\n",
    "laptop= pd.read_csv('encoded_dataset_class.csv')\n",
    "X = laptop.drop(columns=['UsageType','Unnamed: 0','Unnamed: 0.1'])\n",
    "y = laptop['UsageType']\n",
    "\n",
    "# Train model\n",
    "model = DecisionTreeClassifier()\n",
    "model.fit(X, y)\n",
    "\n",
    "# Save model to disk\n",
    "with open(\"laptop_model_class.pkl\", \"wb\") as f:\n",
    "    pickle.dump(model, f)\n"
   ]
  },
  {
   "cell_type": "code",
   "execution_count": 2,
   "id": "da7022de-8f64-42f7-866f-4587eb9b51ca",
   "metadata": {},
   "outputs": [
    {
     "name": "stdout",
     "output_type": "stream",
     "text": [
      "Company                   int64\n",
      "TypeName                  int64\n",
      "Inches                  float64\n",
      "Ram                     float64\n",
      "OpSys                     int64\n",
      "Weight                  float64\n",
      "Price_euros             float64\n",
      "Screen                    int64\n",
      "ScreenW                 float64\n",
      "ScreenH                 float64\n",
      "Touchscreen               int64\n",
      "IPSpanel                  int64\n",
      "RetinaDisplay             int64\n",
      "CPU_brand                 int64\n",
      "CPU_base_clock_speed    float64\n",
      "PrimaryStorage            int64\n",
      "PrimaryStorageType        int64\n",
      "SecondaryStorage          int64\n",
      "SecondaryStorageType      int64\n",
      "GPU_company               int64\n",
      "dtype: object\n",
      "1.1.3\n"
     ]
    }
   ],
   "source": [
    "print(X.dtypes)\n",
    "print(sklearn.__version__)\n"
   ]
  },
  {
   "cell_type": "code",
   "execution_count": null,
   "id": "c182c2b7-de88-42e3-a6ec-f5230adb6bb6",
   "metadata": {},
   "outputs": [],
   "source": []
  },
  {
   "cell_type": "code",
   "execution_count": null,
   "id": "3ac6599a-76fb-4e26-982d-e11f8464a424",
   "metadata": {},
   "outputs": [],
   "source": []
  }
 ],
 "metadata": {
  "kernelspec": {
   "display_name": "Python 3 (ipykernel)",
   "language": "python",
   "name": "python3"
  },
  "language_info": {
   "codemirror_mode": {
    "name": "ipython",
    "version": 3
   },
   "file_extension": ".py",
   "mimetype": "text/x-python",
   "name": "python",
   "nbconvert_exporter": "python",
   "pygments_lexer": "ipython3",
   "version": "3.11.8"
  }
 },
 "nbformat": 4,
 "nbformat_minor": 5
}
