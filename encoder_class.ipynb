{
 "cells": [
  {
   "cell_type": "code",
   "execution_count": 12,
   "id": "c7beecbc-b71d-4b75-aab9-bca9da6b039d",
   "metadata": {},
   "outputs": [],
   "source": [
    "from sklearn.preprocessing import LabelEncoder\n",
    "import pickle\n",
    "import pandas as pd\n",
    "\n",
    "df= pd.read_csv('prosseced_dataset_class.csv')\n",
    "if 'Unnamed: 0.1' in df.columns:\n",
    "    df.drop(['Unnamed: 0.1'], axis=1, inplace=True)\n",
    "if 'Unnamed: 0' in df.columns:\n",
    "    df.drop(['Unnamed: 0'], axis=1, inplace=True)\n",
    "# encode and save\n",
    "label_encoders={}\n",
    "for column in df.select_dtypes(include='object').columns:\n",
    "    le=LabelEncoder()\n",
    "    df[column]=le.fit_transform(df[column].astype(str))\n",
    "    label_encoders[column]=le\n",
    "    \n",
    "\n",
    "# Save encoders\n",
    "with open(\"label_encoders_class.pkl\", \"wb\") as f:\n",
    "    pickle.dump(label_encoders, f)\n",
    "\n",
    "# Save feature columns too\n",
    "feature_columns = df.drop(columns=[\"UsageType\"]).columns.tolist()\n",
    "with open(\"feature_columns_class.pkl\", \"wb\") as f:\n",
    "    pickle.dump(feature_columns, f)\n"
   ]
  },
  {
   "cell_type": "code",
   "execution_count": 14,
   "id": "50d6eaba-447a-4f03-b037-61fca0b07a4d",
   "metadata": {},
   "outputs": [
    {
     "name": "stdout",
     "output_type": "stream",
     "text": [
      "Company                   int32\n",
      "TypeName                  int32\n",
      "Inches                  float64\n",
      "Ram                     float64\n",
      "OpSys                     int32\n",
      "Weight                  float64\n",
      "Price_euros             float64\n",
      "Screen                    int32\n",
      "ScreenW                 float64\n",
      "ScreenH                 float64\n",
      "Touchscreen               int32\n",
      "IPSpanel                  int32\n",
      "RetinaDisplay             int32\n",
      "CPU_brand                 int32\n",
      "CPU_base_clock_speed    float64\n",
      "PrimaryStorage            int64\n",
      "PrimaryStorageType        int32\n",
      "SecondaryStorage          int64\n",
      "SecondaryStorageType      int32\n",
      "GPU_company               int32\n",
      "UsageType                 int32\n",
      "dtype: object\n"
     ]
    }
   ],
   "source": [
    "print(df.dtypes)"
   ]
  }
 ],
 "metadata": {
  "kernelspec": {
   "display_name": "Python [conda env:base] *",
   "language": "python",
   "name": "conda-base-py"
  },
  "language_info": {
   "codemirror_mode": {
    "name": "ipython",
    "version": 3
   },
   "file_extension": ".py",
   "mimetype": "text/x-python",
   "name": "python",
   "nbconvert_exporter": "python",
   "pygments_lexer": "ipython3",
   "version": "3.12.3"
  }
 },
 "nbformat": 4,
 "nbformat_minor": 5
}
