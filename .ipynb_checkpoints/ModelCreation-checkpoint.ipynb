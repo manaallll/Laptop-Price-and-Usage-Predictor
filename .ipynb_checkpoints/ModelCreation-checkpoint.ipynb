{
 "cells": [
  {
   "cell_type": "code",
   "execution_count": 1,
   "id": "3fdd2a58-7dcd-4895-9a99-383e43c097cf",
   "metadata": {},
   "outputs": [],
   "source": [
    "from sklearn.ensemble import GradientBoostingRegressor\n",
    "import pandas as pd\n",
    "import pickle\n",
    "\n",
    "# Load Iris data\n",
    "laptop= pd.read_csv('encoded_dataset.csv')\n",
    "\n",
    "X = laptop.drop(columns=['Price_euros','Unnamed: 0'])\n",
    "y = laptop['Price_euros']\n",
    "\n",
    "# Train model\n",
    "model =  GradientBoostingRegressor(random_state=42)\n",
    "model.fit(X, y)\n",
    "\n",
    "# Save model to disk\n",
    "with open(\"laptop_model.pkl\", \"wb\") as f:\n",
    "    pickle.dump(model, f)\n"
   ]
  },
  {
   "cell_type": "code",
   "execution_count": null,
   "id": "3ce594f4-1015-43d8-811c-4468df0712bb",
   "metadata": {},
   "outputs": [],
   "source": []
  }
 ],
 "metadata": {
  "kernelspec": {
   "display_name": "Python 3 (ipykernel)",
   "language": "python",
   "name": "python3"
  },
  "language_info": {
   "codemirror_mode": {
    "name": "ipython",
    "version": 3
   },
   "file_extension": ".py",
   "mimetype": "text/x-python",
   "name": "python",
   "nbconvert_exporter": "python",
   "pygments_lexer": "ipython3",
   "version": "3.11.8"
  }
 },
 "nbformat": 4,
 "nbformat_minor": 5
}
